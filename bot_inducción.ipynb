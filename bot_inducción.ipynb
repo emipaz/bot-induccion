{
 "cells": [
  {
   "cell_type": "markdown",
   "id": "624ae2d9-ee89-4ea0-8f07-6fa6fbdcfc3d",
   "metadata": {},
   "source": [
    "# Creando un Bot para la empresa"
   ]
  },
  {
   "cell_type": "markdown",
   "id": "64c9ebbb-545c-4b60-932f-8570e5cac9db",
   "metadata": {},
   "source": [
    "# Cargar api_key de .env"
   ]
  },
  {
   "cell_type": "code",
   "execution_count": 1,
   "id": "75905f55-2fd6-470b-b75d-c7bbac5ab7a6",
   "metadata": {},
   "outputs": [
    {
     "data": {
      "text/plain": [
       "True"
      ]
     },
     "execution_count": 1,
     "metadata": {},
     "output_type": "execute_result"
    }
   ],
   "source": [
    "from dotenv import load_dotenv , find_dotenv\n",
    "load_dotenv(find_dotenv())"
   ]
  },
  {
   "cell_type": "markdown",
   "id": "5d99239b-edcd-4e1d-85d0-19f25c8526e6",
   "metadata": {},
   "source": [
    "## Importar openai y crear un cliente"
   ]
  },
  {
   "cell_type": "code",
   "execution_count": 2,
   "id": "9109fd6d-308c-4520-b17f-710e6fe59505",
   "metadata": {},
   "outputs": [],
   "source": [
    "import openai"
   ]
  },
  {
   "cell_type": "code",
   "execution_count": 3,
   "id": "b8fed326-9225-4d36-bddf-21b3ea7bcf77",
   "metadata": {},
   "outputs": [],
   "source": [
    "cliente = openai.Client()"
   ]
  },
  {
   "cell_type": "markdown",
   "id": "2ea760f9-3cb0-49de-8958-d23f3c1f1956",
   "metadata": {},
   "source": [
    "Ver los modelos disponibles para usar"
   ]
  },
  {
   "cell_type": "code",
   "execution_count": 4,
   "id": "6413ae38-938d-4617-b41e-c4884034d8f6",
   "metadata": {},
   "outputs": [
    {
     "name": "stdout",
     "output_type": "stream",
     "text": [
      "dall-e-3\n",
      "gpt-4-1106-preview\n",
      "dall-e-2\n",
      "tts-1-hd-1106\n",
      "tts-1-hd\n",
      "gpt-4o-mini-2024-07-18\n",
      "gpt-4-0125-preview\n",
      "babbage-002\n",
      "gpt-4-turbo-preview\n",
      "text-embedding-3-small\n",
      "text-embedding-3-large\n",
      "tts-1\n",
      "gpt-3.5-turbo\n",
      "whisper-1\n",
      "gpt-4o-2024-05-13\n",
      "text-embedding-ada-002\n",
      "gpt-3.5-turbo-16k\n",
      "davinci-002\n",
      "gpt-4-turbo-2024-04-09\n",
      "tts-1-1106\n",
      "gpt-3.5-turbo-0125\n",
      "gpt-4-turbo\n",
      "gpt-3.5-turbo-1106\n",
      "gpt-4o-mini\n",
      "gpt-4o\n",
      "gpt-3.5-turbo-instruct-0914\n",
      "gpt-3.5-turbo-instruct\n",
      "gpt-4-0613\n",
      "gpt-4\n"
     ]
    }
   ],
   "source": [
    "for modelo in cliente.models.list().data:\n",
    "    print(modelo.id)"
   ]
  },
  {
   "cell_type": "code",
   "execution_count": null,
   "id": "e2896659-b1c3-40c9-8189-e69d28e2bb0c",
   "metadata": {},
   "outputs": [],
   "source": []
  },
  {
   "cell_type": "markdown",
   "id": "37f70884-02d1-4a35-8be0-717c08b86fba",
   "metadata": {},
   "source": [
    "## Algunas bibliotecas para leer documentos"
   ]
  },
  {
   "cell_type": "markdown",
   "id": "6f19dff1-1d18-4a5f-a8b4-8b0650db0fb2",
   "metadata": {},
   "source": [
    "Documentos genericos o creados por el usuario"
   ]
  },
  {
   "cell_type": "code",
   "execution_count": 5,
   "id": "fe584df5-0cc5-44db-96f5-b2716db93b43",
   "metadata": {},
   "outputs": [],
   "source": [
    "from langchain_core.documents import Document"
   ]
  },
  {
   "cell_type": "code",
   "execution_count": 6,
   "id": "0120ec69-e486-4055-a4a8-825075adb095",
   "metadata": {},
   "outputs": [],
   "source": [
    "texto = \"documento de langchain generico \"\n",
    "metadata = {\"origen\": \"creado en en clase\"}\n",
    "doc = Document(page_content=texto,\n",
    "               metadata=metadata)"
   ]
  },
  {
   "cell_type": "code",
   "execution_count": 7,
   "id": "407c239d-07ed-491e-b6e7-8f07024e9334",
   "metadata": {},
   "outputs": [
    {
     "data": {
      "text/plain": [
       "Document(page_content='documento de langchain generico ', metadata={'origen': 'creado en en clase'})"
      ]
     },
     "execution_count": 7,
     "metadata": {},
     "output_type": "execute_result"
    }
   ],
   "source": [
    "doc"
   ]
  },
  {
   "cell_type": "markdown",
   "id": "529e669d-709c-47a6-bbb1-4d28c1cc751d",
   "metadata": {},
   "source": [
    "Lectores de Documentos mas comunes"
   ]
  },
  {
   "cell_type": "code",
   "execution_count": 8,
   "id": "a088213d-17a3-4a9c-bba9-4ddcb8589434",
   "metadata": {},
   "outputs": [],
   "source": [
    "# from langchain_community.document_loaders import TextLoader\n",
    "# from langchain_community.document_loaders import PyPDFLoader\n",
    "# from langchain_community.document_loaders import Docx2txtLoader\n",
    "# from langchain_community.document_loaders.csv_loader import CSVLoader"
   ]
  },
  {
   "cell_type": "markdown",
   "id": "365f98d3-0e16-4b68-8878-3b229772df32",
   "metadata": {},
   "source": [
    "Lector para cargar paginas web y transcripciones de videoa de youtube"
   ]
  },
  {
   "cell_type": "code",
   "execution_count": 9,
   "id": "f5d7c8bd-4d7b-485a-86cb-804170de57bf",
   "metadata": {},
   "outputs": [],
   "source": [
    "# from langchain_community.document_loaders import WebBaseLoader\n",
    "# from langchain_community.document_loaders import YoutubeLoader"
   ]
  },
  {
   "cell_type": "markdown",
   "id": "554e65f7-ca57-4bae-8511-2c7b0db84a1b",
   "metadata": {},
   "source": [
    "Lectores para documento no estructurados imagens ppts y excels ()"
   ]
  },
  {
   "cell_type": "code",
   "execution_count": 10,
   "id": "5a97aac8-a2ae-4953-91ce-1e21bb0bfb87",
   "metadata": {},
   "outputs": [],
   "source": [
    "# from langchain_community.document_loaders import UnstructuredImageLoader\n",
    "# from langchain_community.document_loaders import UnstructuredPowerPointLoader\n",
    "# from langchain_community.document_loaders import UnstructuredExcelLoader"
   ]
  },
  {
   "cell_type": "code",
   "execution_count": 11,
   "id": "bec08948-18b0-434b-bc4b-4a044c646e1f",
   "metadata": {},
   "outputs": [],
   "source": [
    "# from langchain_community.document_loaders import WikipediaLoader"
   ]
  },
  {
   "cell_type": "markdown",
   "id": "d9ca8feb-cc26-472c-92c9-8883a653b89a",
   "metadata": {},
   "source": [
    "Leer carpeta con documentos"
   ]
  },
  {
   "cell_type": "code",
   "execution_count": 12,
   "id": "b5e730b3-5294-401c-94f6-65cc5ce631bb",
   "metadata": {},
   "outputs": [],
   "source": [
    "import os"
   ]
  },
  {
   "cell_type": "code",
   "execution_count": 13,
   "id": "f4cbf689-4a45-4708-b107-6cd655aa0b0d",
   "metadata": {},
   "outputs": [
    {
     "data": {
      "text/plain": [
       "['ACME FOR DUMMIES - an induction guide.pdf']"
      ]
     },
     "execution_count": 13,
     "metadata": {},
     "output_type": "execute_result"
    }
   ],
   "source": [
    "datos = os.listdir(\"datos\")\n",
    "datos"
   ]
  },
  {
   "cell_type": "markdown",
   "id": "10ffc7e5-0e77-4811-a13e-c87c23d09f9e",
   "metadata": {},
   "source": [
    "Para usar PyPDFLoader nececitamos tener instalado pypdf"
   ]
  },
  {
   "cell_type": "code",
   "execution_count": 14,
   "id": "e8e995b4-380d-4989-9039-3b93ebbf4d22",
   "metadata": {},
   "outputs": [],
   "source": [
    "from langchain_community.document_loaders import PyPDFLoader"
   ]
  },
  {
   "cell_type": "code",
   "execution_count": 15,
   "id": "d7aa3a92-7841-49c6-aa7c-94f6b610304d",
   "metadata": {},
   "outputs": [],
   "source": [
    "carpeta_actual = os.getcwd()"
   ]
  },
  {
   "cell_type": "code",
   "execution_count": 16,
   "id": "fc2b7467-9372-4d4e-8c9f-26b80345f2df",
   "metadata": {},
   "outputs": [],
   "source": [
    "documentos = []"
   ]
  },
  {
   "cell_type": "code",
   "execution_count": 17,
   "id": "4a8b6859-8164-4987-b514-c779cda34f75",
   "metadata": {},
   "outputs": [],
   "source": [
    "for doc in datos:\n",
    "    path = os.path.join(carpeta_actual,\"datos\", doc)\n",
    "    pdf = PyPDFLoader(path)\n",
    "    document = pdf.load()\n",
    "    documentos.extend(document)"
   ]
  },
  {
   "cell_type": "code",
   "execution_count": 18,
   "id": "2ce9f750-e080-4c74-aef9-d584e5da0680",
   "metadata": {},
   "outputs": [
    {
     "data": {
      "text/plain": [
       "11"
      ]
     },
     "execution_count": 18,
     "metadata": {},
     "output_type": "execute_result"
    }
   ],
   "source": [
    "len(documentos)"
   ]
  },
  {
   "cell_type": "code",
   "execution_count": 19,
   "id": "929e87f2-ef92-45a1-a777-a236bee1811c",
   "metadata": {},
   "outputs": [
    {
     "name": "stdout",
     "output_type": "stream",
     "text": [
      "{'source': 'e:\\\\bot-induccion\\\\datos\\\\ACME FOR DUMMIES - an induction guide.pdf', 'page': 0}\n",
      "{'source': 'e:\\\\bot-induccion\\\\datos\\\\ACME FOR DUMMIES - an induction guide.pdf', 'page': 1}\n",
      "{'source': 'e:\\\\bot-induccion\\\\datos\\\\ACME FOR DUMMIES - an induction guide.pdf', 'page': 2}\n",
      "{'source': 'e:\\\\bot-induccion\\\\datos\\\\ACME FOR DUMMIES - an induction guide.pdf', 'page': 3}\n",
      "{'source': 'e:\\\\bot-induccion\\\\datos\\\\ACME FOR DUMMIES - an induction guide.pdf', 'page': 4}\n",
      "{'source': 'e:\\\\bot-induccion\\\\datos\\\\ACME FOR DUMMIES - an induction guide.pdf', 'page': 5}\n",
      "{'source': 'e:\\\\bot-induccion\\\\datos\\\\ACME FOR DUMMIES - an induction guide.pdf', 'page': 6}\n",
      "{'source': 'e:\\\\bot-induccion\\\\datos\\\\ACME FOR DUMMIES - an induction guide.pdf', 'page': 7}\n",
      "{'source': 'e:\\\\bot-induccion\\\\datos\\\\ACME FOR DUMMIES - an induction guide.pdf', 'page': 8}\n",
      "{'source': 'e:\\\\bot-induccion\\\\datos\\\\ACME FOR DUMMIES - an induction guide.pdf', 'page': 9}\n",
      "{'source': 'e:\\\\bot-induccion\\\\datos\\\\ACME FOR DUMMIES - an induction guide.pdf', 'page': 10}\n"
     ]
    }
   ],
   "source": [
    "for doc in documentos:\n",
    "    print(doc.metadata)"
   ]
  },
  {
   "cell_type": "code",
   "execution_count": 20,
   "id": "6e7cd45e-8429-4155-a059-e4012b580070",
   "metadata": {},
   "outputs": [
    {
     "name": "stdout",
     "output_type": "stream",
     "text": [
      "CONFIDENTIAL – FOR INTERNAL USE ONLY - DO NOT DISTRIBUTE - CONFIDENTIAL – FOR INTERNAL USE ONLY - DO NOT DISTRIBUTE  \n",
      "CONFIDENTIAL – FOR INTERNAL USE ONLY - DO NOT DISTRIBUTE - CONFIDENTIAL – FOR INTERNAL USE ONLY - DO NOT DISTRIBUTE  2   \n",
      "Thank you for reviewing this document! We would like \n",
      "to consider this a “Dummy” guide to ACME .  \n",
      "You will learn about the company structure, marketing \n",
      "activities, sales operations, and about project execution \n",
      "and related special processes.  \n",
      "The aim of this presentation is to give you an overview \n",
      "of the operations that are taking place at ACME , how \n",
      "they are being executed and by whom.  \n",
      " \n",
      "ABBREVIATIONS  AND ACRONYMS   \n",
      "  \n",
      " \n",
      "First we will start with some \n",
      "basic jargon. You may notice \n",
      "that, throughout the \n",
      "presentation to follow, many \n",
      "roles in the company will be \n",
      "referred to by the common \n",
      "abbreviations used internally. \n",
      "Please use this chart to \n",
      "identify the individuals \n",
      "referred to, as needed.  \n",
      "  \n",
      "\n"
     ]
    }
   ],
   "source": [
    "print(documentos[1].page_content)"
   ]
  },
  {
   "cell_type": "markdown",
   "id": "07c5a1d2-b638-446c-bd37-05890baf175a",
   "metadata": {},
   "source": [
    "El pdf tiene varias imagenes con datos que el lector no captura esa informacion\n",
    "Vamos a extraer las imagenes y tratar de hacer un ocr"
   ]
  },
  {
   "cell_type": "code",
   "execution_count": 21,
   "id": "4063cc3b-f775-4373-9a12-c7162515cb8b",
   "metadata": {},
   "outputs": [
    {
     "name": "stdout",
     "output_type": "stream",
     "text": [
      "Imágenes extraídas y guardadas.\n"
     ]
    }
   ],
   "source": [
    "# pip install pymupdf\n",
    "\n",
    "import fitz  # PyMuPDF\n",
    "\n",
    "# Abre el PDF\n",
    "pdf_document = \"./datos/ACME FOR DUMMIES - an induction guide.pdf\"\n",
    "pdf = fitz.open(pdf_document)\n",
    "\n",
    "# Extrae las imágenes\n",
    "for page_index in range(len(pdf)):\n",
    "    page = pdf.load_page(page_index)\n",
    "    images = page.get_images(full=True)\n",
    "    for img_index, img in enumerate(images):\n",
    "        xref = img[0]\n",
    "        base_image = pdf.extract_image(xref)\n",
    "        image_bytes = base_image[\"image\"]\n",
    "        image_ext = base_image[\"ext\"]\n",
    "        image_filename = f\"pagina{page_index+1}_imagen{img_index+1}.{image_ext}\"\n",
    "        path = os.path.join(carpeta_actual, \"datos\", image_filename)\n",
    "        # Guarda la imagen\n",
    "        with open(path, \"wb\") as img_file:\n",
    "            img_file.write(image_bytes)\n",
    "\n",
    "print(\"Imágenes extraídas y guardadas.\")"
   ]
  },
  {
   "cell_type": "markdown",
   "id": "c712de9a-4598-4405-80d7-da01db0c3491",
   "metadata": {},
   "source": [
    "Para usar la clase UnstructuredImageLoader hay que instalar\n",
    "\n",
    "el ocr testerac de : \n",
    "\n",
    "https://tesseract-ocr.github.io/tessdoc/Installation.html\n",
    "\n",
    "https://github.com/UB-Mannheim/tesseract/wiki\n",
    "\n",
    "instalador para windows\n",
    "\n",
    "https://github.com/UB-Mannheim/tesseract/releases/download/v5.4.0.20240606/tesseract-ocr-w64-setup-5.4.0.20240606.exe\n",
    "\n",
    "y las librerias de python \n",
    "\n",
    "- pytesseract\n",
    "- unstructured\n",
    "- unstructured-client\n",
    "\n"
   ]
  },
  {
   "cell_type": "code",
   "execution_count": 22,
   "id": "46d04515-da45-4519-ba05-ef8c9d3f9053",
   "metadata": {},
   "outputs": [],
   "source": [
    "from langchain_community.document_loaders import UnstructuredImageLoader"
   ]
  },
  {
   "cell_type": "code",
   "execution_count": 23,
   "id": "e4f7164a-19cc-4e30-a3d2-dd65a16a23f5",
   "metadata": {},
   "outputs": [],
   "source": [
    "imagenes = []"
   ]
  },
  {
   "cell_type": "markdown",
   "id": "fc5be352-a0a2-48e3-9102-fe3c9d86590d",
   "metadata": {},
   "source": [
    "lo siguiente puede tardar uno minutos"
   ]
  },
  {
   "cell_type": "code",
   "execution_count": 24,
   "id": "fb0f22ff-aab1-49c2-bba1-83421d7f955c",
   "metadata": {},
   "outputs": [
    {
     "name": "stderr",
     "output_type": "stream",
     "text": [
      "This function will be deprecated in a future release and `unstructured` will simply use the DEFAULT_MODEL from `unstructured_inference.model.base` to set default model name\n",
      "This function will be deprecated in a future release and `unstructured` will simply use the DEFAULT_MODEL from `unstructured_inference.model.base` to set default model name\n",
      "This function will be deprecated in a future release and `unstructured` will simply use the DEFAULT_MODEL from `unstructured_inference.model.base` to set default model name\n",
      "This function will be deprecated in a future release and `unstructured` will simply use the DEFAULT_MODEL from `unstructured_inference.model.base` to set default model name\n",
      "This function will be deprecated in a future release and `unstructured` will simply use the DEFAULT_MODEL from `unstructured_inference.model.base` to set default model name\n",
      "This function will be deprecated in a future release and `unstructured` will simply use the DEFAULT_MODEL from `unstructured_inference.model.base` to set default model name\n",
      "This function will be deprecated in a future release and `unstructured` will simply use the DEFAULT_MODEL from `unstructured_inference.model.base` to set default model name\n",
      "This function will be deprecated in a future release and `unstructured` will simply use the DEFAULT_MODEL from `unstructured_inference.model.base` to set default model name\n",
      "This function will be deprecated in a future release and `unstructured` will simply use the DEFAULT_MODEL from `unstructured_inference.model.base` to set default model name\n",
      "This function will be deprecated in a future release and `unstructured` will simply use the DEFAULT_MODEL from `unstructured_inference.model.base` to set default model name\n",
      "This function will be deprecated in a future release and `unstructured` will simply use the DEFAULT_MODEL from `unstructured_inference.model.base` to set default model name\n",
      "This function will be deprecated in a future release and `unstructured` will simply use the DEFAULT_MODEL from `unstructured_inference.model.base` to set default model name\n",
      "This function will be deprecated in a future release and `unstructured` will simply use the DEFAULT_MODEL from `unstructured_inference.model.base` to set default model name\n",
      "This function will be deprecated in a future release and `unstructured` will simply use the DEFAULT_MODEL from `unstructured_inference.model.base` to set default model name\n"
     ]
    }
   ],
   "source": [
    "for imagen in os.listdir(\"datos\"):\n",
    "    nombre, extension = os.path.splitext(imagen)\n",
    "    if extension in {\".jpeg\", \".jpg\", \".png\"}:\n",
    "        path = os.path.join(carpeta_actual, \"datos\", imagen)\n",
    "        img = UnstructuredImageLoader(path)\n",
    "        document = img.load()\n",
    "        imagenes.extend(document)\n",
    "        "
   ]
  },
  {
   "cell_type": "code",
   "execution_count": 25,
   "id": "9b8515f6-9f0b-4996-baad-8daa11109209",
   "metadata": {},
   "outputs": [
    {
     "data": {
      "text/plain": [
       "14"
      ]
     },
     "execution_count": 25,
     "metadata": {},
     "output_type": "execute_result"
    }
   ],
   "source": [
    "len(imagenes)"
   ]
  },
  {
   "cell_type": "code",
   "execution_count": 26,
   "id": "a75a6b4a-2a59-45a3-9784-0e499bc2c74d",
   "metadata": {},
   "outputs": [],
   "source": [
    "from IPython.display import display, Image"
   ]
  },
  {
   "cell_type": "code",
   "execution_count": 57,
   "id": "4feb8a74-0515-43a1-ab83-6dc1fa474d4b",
   "metadata": {},
   "outputs": [
    {
     "data": {
      "image/jpeg": "[encoded data removed]",
      "text/plain": [
       "<IPython.core.display.Image object>"
      ]
     },
     "metadata": {},
     "output_type": "display_data"
    },
    {
     "name": "stdout",
     "output_type": "stream",
     "text": [
      "1. Access to portals/info stored\n",
      "\n",
      "Opportunities Quotes Client Contacts Accounts Salesforce . .\n",
      "{'source': 'e:\\\\bot-induccion\\\\datos\\\\pagina3_imagen1.jpeg'}\n"
     ]
    }
   ],
   "source": [
    "url_imagen = imagenes[5].metadata[\"source\"]\n",
    "display(Image(url_imagen))\n",
    "print(imagenes[5].page_content)\n",
    "print(imagenes[5].metadata)"
   ]
  },
  {
   "cell_type": "code",
   "execution_count": 29,
   "id": "2ff5ff47-3260-4c4f-bfd0-4fe3eca764e6",
   "metadata": {},
   "outputs": [],
   "source": [
    "doc_a_vectorizar = []"
   ]
  },
  {
   "cell_type": "code",
   "execution_count": 30,
   "id": "54edbcb7-94ab-4a95-becb-05ac6b8b31aa",
   "metadata": {},
   "outputs": [],
   "source": [
    "doc_a_vectorizar.extend(documentos)\n",
    "doc_a_vectorizar.extend(imagenes)"
   ]
  },
  {
   "cell_type": "code",
   "execution_count": 31,
   "id": "f58ecb44-b4f1-415b-b5a7-d1902093b7e9",
   "metadata": {},
   "outputs": [
    {
     "data": {
      "text/plain": [
       "25"
      ]
     },
     "execution_count": 31,
     "metadata": {},
     "output_type": "execute_result"
    }
   ],
   "source": [
    "len(doc_a_vectorizar)"
   ]
  },
  {
   "cell_type": "markdown",
   "id": "2b7bb785-d7a4-46b9-8dce-63ab25896626",
   "metadata": {},
   "source": [
    "## Fraccionar Documetos "
   ]
  },
  {
   "cell_type": "markdown",
   "id": "98faee16-a496-4fa3-88fa-24c43acda5df",
   "metadata": {},
   "source": [
    "Para mejorar la búsqueda semántica, podemos utilizar la estrategia de dividir los documentos en fragmentos. Esto es particularmente útil cuando los documentos contienen información variada que podría confundir la búsqueda semántica. Al dividir los documentos en fragmentos más pequeños y coherentes, podemos mejorar la precisión de las búsquedas, ya que cada fragmento contendrá un conjunto más concentrado de información relevante."
   ]
  },
  {
   "cell_type": "markdown",
   "id": "6ee5a8eb-1b23-4fbd-8223-2fba63fbbc9b",
   "metadata": {},
   "source": [
    "### Razones para Dividir Documentos:\n",
    "\n",
    "- Claridad y Relevancia:\n",
    "\n",
    "> Los documentos largos pueden cubrir múltiples temas. Dividirlos en fragmentos permite que cada sección trate sobre un tema específico, lo que mejora la precisión de las búsquedas.\n",
    "Reducción de Ruido:\n",
    "\n",
    "> La información irrelevante en documentos largos puede afectar negativamente la búsqueda semántica. Fragmentar los documentos reduce el ruido y mejora la calidad de los resultados de búsqueda.\n",
    "Mejora en el Rendimiento:\n",
    "\n",
    "> Las búsquedas en fragmentos más pequeños pueden ser más rápidas y eficientes, especialmente cuando se utilizan modelos de procesamiento de lenguaje natural (NLP) y embeddings."
   ]
  },
  {
   "cell_type": "markdown",
   "id": "15870f23-063d-446e-a8f1-2935609ff6f3",
   "metadata": {},
   "source": [
    "Vamos a utilizar  "
   ]
  },
  {
   "cell_type": "markdown",
   "id": "6857a177-b775-45b3-99c7-93d7a4466719",
   "metadata": {},
   "source": [
    " `RecursiveCharacterTextSplitter` es una herramienta útil de la biblioteca LangChain para dividir textos largos en fragmentos más pequeños de manera jerárquica, respetando los límites de palabras, oraciones, párrafos y secciones de manera recursiva. Esto es especialmente útil para preparar documentos para tareas de búsqueda semántica o procesamiento de lenguaje natural.\n",
    "\n",
    "Funcionalidad de RecursiveCharacterTextSplitter\n",
    "\n",
    "- Jerárquico:\n",
    "\n",
    "> Divide el texto de manera recursiva siguiendo una jerarquía de delimitadores. Por ejemplo, puede intentar dividir primero por párrafos, luego por oraciones, y finalmente por palabras si es necesario.\n",
    "\n",
    "- Configuración de Longitud:\n",
    "\n",
    "> Permite especificar la longitud máxima de los fragmentos en términos de caracteres, asegurando que cada fragmento no exceda un tamaño determinado.\n",
    "\n",
    "Parámetros Principales\n",
    "- chunk_size: \n",
    "        Tamaño máximo permitido para cada fragmento en caracteres.\n",
    "- chunk_overlap: \n",
    "        Número de caracteres que se solaparán entre fragmentos consecutivos.\n",
    "- separators: \n",
    "        Lista de delimitadores utilizados para dividir el texto. Estos pueden ser caracteres de nueva línea, espacios, o cualquier otro delimitador personalizado."
   ]
  },
  {
   "cell_type": "code",
   "execution_count": 32,
   "id": "86082fc0-8988-42a9-8552-c4a819e981ee",
   "metadata": {},
   "outputs": [],
   "source": [
    "from langchain.text_splitter import RecursiveCharacterTextSplitter"
   ]
  },
  {
   "cell_type": "code",
   "execution_count": 33,
   "id": "2401dfce-4ae8-4e8b-ad47-d58417dacad0",
   "metadata": {},
   "outputs": [],
   "source": [
    "text_splitter = RecursiveCharacterTextSplitter(\n",
    "    chunk_size = 1000,\n",
    "    chunk_overlap = 200\n",
    ")"
   ]
  },
  {
   "cell_type": "code",
   "execution_count": 34,
   "id": "9daeedba-1b23-4bbe-abcc-44da2126ee22",
   "metadata": {},
   "outputs": [],
   "source": [
    "chunks = text_splitter.split_documents(doc_a_vectorizar)"
   ]
  },
  {
   "cell_type": "code",
   "execution_count": 35,
   "id": "bbc9245d-14de-4dfc-8a7c-b7806f02a8a6",
   "metadata": {},
   "outputs": [
    {
     "data": {
      "text/plain": [
       "52"
      ]
     },
     "execution_count": 35,
     "metadata": {},
     "output_type": "execute_result"
    }
   ],
   "source": [
    "len(chunks)"
   ]
  },
  {
   "cell_type": "markdown",
   "id": "fa02a10d-6c72-4ce6-ac5b-9f9ff834907c",
   "metadata": {},
   "source": [
    "## Ahora vamos a Vectorizar"
   ]
  },
  {
   "cell_type": "markdown",
   "id": "bf51c94d-d3ed-4087-94d1-f86c92b73a18",
   "metadata": {},
   "source": [
    "Vectorizar un documento usando un embedding para la búsqueda semántica implica transformar el texto en vectores numéricos de alta dimensión que capturan el significado semántico del texto. Estos vectores permiten medir la similitud semántica entre diferentes fragmentos de texto.\n",
    "\n",
    "Los embeddings capturan relaciones semánticas más profundas que las búsquedas basadas en palabras clave."
   ]
  },
  {
   "cell_type": "code",
   "execution_count": 36,
   "id": "18cb1f63-6416-435e-9542-221fa451cd6a",
   "metadata": {},
   "outputs": [],
   "source": [
    "from langchain_openai import OpenAIEmbeddings\n",
    "embedding = OpenAIEmbeddings()\n",
    "from langchain_community.vectorstores import Chroma"
   ]
  },
  {
   "cell_type": "code",
   "execution_count": 37,
   "id": "37669cdd-4993-491b-a727-80c3abc59a7b",
   "metadata": {},
   "outputs": [],
   "source": [
    "vectordb = Chroma.from_documents(\n",
    "    documents=chunks, # estos son tus datos partidos\n",
    "    embedding=embedding, # este es el enmbeding que usas ej : \n",
    "    persist_directory=\"base_bot/\", )# directorio donde se guardan los vectores)\n",
    "vectordb.persist()"
   ]
  },
  {
   "cell_type": "code",
   "execution_count": 38,
   "id": "8e793981-b489-46b9-8ebf-952730ffaf4e",
   "metadata": {},
   "outputs": [],
   "source": [
    "datadb    = Chroma(persist_directory=\"base_bot\", \n",
    "                       embedding_function=embedding)"
   ]
  },
  {
   "cell_type": "code",
   "execution_count": 39,
   "id": "dde14947-df49-48c3-b74b-9c52186cacd6",
   "metadata": {},
   "outputs": [
    {
     "data": {
      "text/plain": [
       "52"
      ]
     },
     "execution_count": 39,
     "metadata": {},
     "output_type": "execute_result"
    }
   ],
   "source": [
    "datadb._collection.count()"
   ]
  },
  {
   "cell_type": "code",
   "execution_count": 40,
   "id": "5b5ac804-5569-4f6d-b89b-e3bcd8c69141",
   "metadata": {},
   "outputs": [],
   "source": [
    "from textwrap import fill"
   ]
  },
  {
   "cell_type": "code",
   "execution_count": 41,
   "id": "f374d0e3-15a0-417d-945e-5bf1e5da59b4",
   "metadata": {},
   "outputs": [],
   "source": [
    "def consulta_base(pregunta, k):\n",
    "    fragmentos = datadb.max_marginal_relevance_search(\n",
    "        pregunta, \n",
    "        k = k,)\n",
    "    st =\"\"\n",
    "    for doc in fragmentos:\n",
    "        st += fill(doc.page_content,80)  + \"\\n\\n\"\n",
    "    return st\n",
    "    "
   ]
  },
  {
   "cell_type": "code",
   "execution_count": 42,
   "id": "c332d3ff-addb-4470-9393-04da59f7add7",
   "metadata": {},
   "outputs": [],
   "source": [
    "contexto =consulta_base(\"como se llama la empresa?\", 5)"
   ]
  },
  {
   "cell_type": "code",
   "execution_count": 43,
   "id": "9fb13667-4163-40a3-82de-ab6558d9a60e",
   "metadata": {},
   "outputs": [
    {
     "name": "stdout",
     "output_type": "stream",
     "text": [
      "Initial Stages: Commercial Operations  2 Webinar  €&o)— Contact is made with\n",
      "potential client gy PS Quote    |  Licensale Demo  (Ssc)- Identify Needs of\n",
      "potential client  1  Provide Quote upon request  ws\n",
      "\n",
      "ARAZY GROUP  R q\n",
      "\n",
      "CONFIDENTIAL – FOR INTERNAL USE ONLY - DO NOT DISTRIBUTE - CONFIDENTIAL – FOR\n",
      "INTERNAL USE ONLY - DO NOT DISTRIBUTE   CONFIDENTIAL – FOR INTERNAL USE ONLY -\n",
      "DO NOT DISTRIBUTE - CONFIDENTIAL – FOR INTERNAL USE ONLY - DO NOT DISTRIBUTE  1\n",
      "ACME INC\n",
      "\n",
      "QUALITY MANAGEMENT SYSTEM - ISO 9001:2008  This is to certify that:  Arazy Group\n",
      "Consultants Inc. 350-1333 Johnston Street Vancouver British Columbia V¥6H 3R6\n",
      "Canada  Holds Certificate No:  FS 619707  and operates a Quality Management\n",
      "System which complies with the requirements of ISO 9001:2008 for the following\n",
      "scope:  Provision of global medical and IVD device regulatory affairs, safety\n",
      "compliance, quality assurance and licensing consulting services, including local\n",
      "authorized representative and importation services, through standard and\n",
      "advanced service technology tools.\n",
      "\n",
      "they began their first project. However, we are always happy to re -train those\n",
      "who have forgotten what to do or where to click and those wi th new  employees\n",
      "that need to be shown the ropes. This training activity is always carried out by\n",
      "the GAO prior to the sharing of th e applications.\n",
      "\n",
      "\n"
     ]
    }
   ],
   "source": [
    "print(contexto)"
   ]
  },
  {
   "cell_type": "code",
   "execution_count": 44,
   "id": "6ef5f63e-5816-4875-b055-f77190edd428",
   "metadata": {},
   "outputs": [],
   "source": [
    "system  = \"\"\"\n",
    "Eres un experto en la documentación de la empresa, con una habilidad destacada para guiar\n",
    "a los nuevos empleados a través de la documentación.\n",
    "\n",
    "Mantén un tono profesional y acogedor, proporcionando respuestas claras y estructuradas. \n",
    "Utiliza un formato paso a paso para guiar al usuario a través de la documentación.\n",
    "\n",
    "En Cada consulta se te dara un CONTEXTO y debes mantener tu respuesta a la informacion del \n",
    "CONTEXTO sin agregar ningun conocimiento adicional de tu base de conocimiento como modelo LLM.\n",
    "\n",
    "Siempe contesta en el idioma de la pregunta sin necesidad que el ususrio te lo pida.\n",
    "\"\"\""
   ]
  },
  {
   "cell_type": "code",
   "execution_count": 45,
   "id": "3362b397-8297-49b5-97c2-b7235a8bfc9c",
   "metadata": {},
   "outputs": [],
   "source": [
    "prompt_base = \"\"\"\n",
    "El usuario realizo la siguente PREGUNTA:\n",
    "```{}```\n",
    "\n",
    "Escriba una respuesta en el idioma de la PREGUNTA basado\n",
    "el el siguiente CONTEXTO:\n",
    "```{}```\n",
    "\"\"\""
   ]
  },
  {
   "cell_type": "code",
   "execution_count": 46,
   "id": "6935499a-e2bc-4a42-b70f-49c6aaf41251",
   "metadata": {},
   "outputs": [],
   "source": [
    "def chat(pregunta, historial):\n",
    "    memoria = [{\"role\":\"system\", \"content\":system}]\n",
    "    \n",
    "    contexto = consulta_base(pregunta, 5)\n",
    "    for usuario, bot in historial:\n",
    "        memoria.append({\"role\":\"user\", \"content\": usuario})\n",
    "        memoria.append({\"role\":\"assistant\", \"content\": bot})\n",
    "    memoria.append({\"role\":\"user\", \"content\":prompt_base.format(pregunta, contexto)})\n",
    "    response = cliente.chat.completions.create(\n",
    "            model = \"gpt-4o-mini\",\n",
    "            messages = memoria,\n",
    "            temperature = 0.5\n",
    "   \n",
    "    )\n",
    "    return response.choices[0].message.content"
   ]
  },
  {
   "cell_type": "code",
   "execution_count": 47,
   "id": "c4d27117-7d68-4097-a71c-1bd1dfc24d07",
   "metadata": {},
   "outputs": [
    {
     "data": {
      "text/plain": [
       "'La función de un CEO (Chief Executive Officer) en una empresa como ACME es fundamental para la dirección y gestión de la organización. A continuación, se detallan las principales responsabilidades de un CEO:\\n\\n1. **Visión y Estrategia**: El CEO es responsable de establecer la dirección estratégica de la empresa y de asegurar que todos los departamentos trabajen hacia los mismos objetivos.\\n\\n2. **Toma de Decisiones**: Toma decisiones clave que afectan a la empresa, incluyendo la asignación de recursos y la priorización de proyectos.\\n\\n3. **Gestión del Equipo Ejecutivo**: Supervisa a otros altos ejecutivos y asegura que el equipo de liderazgo esté alineado con la visión de la empresa. Esto incluye a roles como COO (Chief Operations Officer) y CRO (Chief Regulatory Officer).\\n\\n4. **Comunicación**: Actúa como el principal portavoz de la empresa, comunicando la visión y los logros a empleados, clientes, inversores y otros interesados.\\n\\n5. **Rendimiento Financiero**: Es responsable de la salud financiera de la empresa, asegurando que se cumplan los objetivos de ingresos y rentabilidad.\\n\\n6. **Relaciones Externas**: Establece y mantiene relaciones con socios comerciales, clientes y otras partes interesadas.\\n\\n7. **Cultura Organizacional**: Promueve y mantiene la cultura de la empresa, asegurando que los valores y principios de ACME sean reflejados en todas las operaciones.\\n\\nEl CEO juega un papel crucial en el éxito y crecimiento de la empresa, guiando su rumbo y asegurando que se mantenga competitiva en el mercado.'"
      ]
     },
     "execution_count": 47,
     "metadata": {},
     "output_type": "execute_result"
    }
   ],
   "source": [
    "chat(\"cuales es la funcion de un CEO\",[])"
   ]
  },
  {
   "cell_type": "markdown",
   "id": "c05cbf96-f422-48f8-aec4-06f7febba3f5",
   "metadata": {},
   "source": [
    "## Creamos una Interfaz de Usuario con gradio"
   ]
  },
  {
   "cell_type": "code",
   "execution_count": 48,
   "id": "41a02aec-877c-4571-ab82-fa64bdc95cc3",
   "metadata": {},
   "outputs": [],
   "source": [
    "import gradio as gr"
   ]
  },
  {
   "cell_type": "code",
   "execution_count": 49,
   "id": "ff31b2ea-9abc-4a93-b17f-072c506dba36",
   "metadata": {},
   "outputs": [],
   "source": [
    "iface = gr.ChatInterface(\n",
    "    fn=chat,\n",
    "    chatbot=gr.Chatbot(height=300),\n",
    "    textbox=gr.Textbox(placeholder=\"Hazme una pregunta\", container=False, scale=7),\n",
    "    title=\"Chatbot de ACME\",\n",
    "    description=\"Escribe una pregunta y obtén una respuesta generada por el bot de ACME.\")"
   ]
  },
  {
   "cell_type": "code",
   "execution_count": 50,
   "id": "ad05b655-f665-41f6-9a20-6b61ecba5be0",
   "metadata": {},
   "outputs": [
    {
     "name": "stdout",
     "output_type": "stream",
     "text": [
      "Running on local URL:  http://127.0.0.1:7860\n",
      "\n",
      "To create a public link, set `share=True` in `launch()`.\n"
     ]
    },
    {
     "data": {
      "text/html": [
       "<div><iframe src=\"http://127.0.0.1:7860/\" width=\"100%\" height=\"500\" allow=\"autoplay; camera; microphone; clipboard-read; clipboard-write;\" frameborder=\"0\" allowfullscreen></iframe></div>"
      ],
      "text/plain": [
       "<IPython.core.display.HTML object>"
      ]
     },
     "metadata": {},
     "output_type": "display_data"
    },
    {
     "data": {
      "text/plain": []
     },
     "execution_count": 50,
     "metadata": {},
     "output_type": "execute_result"
    }
   ],
   "source": [
    "iface.launch()"
   ]
  },
  {
   "cell_type": "code",
   "execution_count": null,
   "id": "56e94b04-f2d2-4481-8624-88fce2c7e196",
   "metadata": {},
   "outputs": [],
   "source": []
  }
 ],
 "metadata": {
  "kernelspec": {
   "display_name": "bot-ind",
   "language": "python",
   "name": "python3"
  },
  "language_info": {
   "codemirror_mode": {
    "name": "ipython",
    "version": 3
   },
   "file_extension": ".py",
   "mimetype": "text/x-python",
   "name": "python",
   "nbconvert_exporter": "python",
   "pygments_lexer": "ipython3",
   "version": "3.10.4"
  }
 },
 "nbformat": 4,
 "nbformat_minor": 5
}
